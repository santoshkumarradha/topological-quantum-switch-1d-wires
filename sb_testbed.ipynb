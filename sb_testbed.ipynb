{
 "cells": [
  {
   "cell_type": "code",
   "execution_count": 32,
   "metadata": {},
   "outputs": [],
   "source": [
    "from ase.io import read,write\n",
    "import numpy as np\n",
    "from ase.build import make_supercell"
   ]
  },
  {
   "cell_type": "code",
   "execution_count": 31,
   "metadata": {},
   "outputs": [],
   "source": [
    "atom=read(\"data/sb_relaxed.cif\")"
   ]
  },
  {
   "cell_type": "code",
   "execution_count": 33,
   "metadata": {},
   "outputs": [],
   "source": [
    "atom.set_chemical_symbols([\"Sb\",\"As\"])"
   ]
  },
  {
   "cell_type": "code",
   "execution_count": 4,
   "metadata": {
    "tags": []
   },
   "outputs": [],
   "source": [
    "wire=cut(atom,a=(1,0,0),b=(0,7,0))\n",
    "write(\"data/wire.cif\",wire)\n",
    "!open data/wire.cif"
   ]
  },
  {
   "cell_type": "code",
   "execution_count": 34,
   "metadata": {},
   "outputs": [],
   "source": [
    "atom=read(\"data/sb_relaxed.cif\")\n",
    "wire=surface(atom,(1,1,0),layers=30)\n",
    "wire.center(vacuum=10, axis=2)\n",
    "\n",
    "\n",
    "!open data/wire.cif"
   ]
  },
  {
   "cell_type": "code",
   "execution_count": 35,
   "metadata": {},
   "outputs": [],
   "source": [
    "n=10\n",
    "atom=read(\"data/sb_relaxed.cif\")\n",
    "atom.set_chemical_symbols([\"Sb\",\"As\"])\n",
    "wire=make_supercell(atom, [[n,0,0],[0,1,0],[0,0,1]], wrap=True, tol=1e-05)\n",
    "wire.center(vacuum=10, axis=0)\n",
    "write(\"data/wire.cif\",wire)\n",
    "!open data/wire.cif"
   ]
  },
  {
   "cell_type": "code",
   "execution_count": 84,
   "metadata": {},
   "outputs": [
    {
     "data": {
      "text/plain": [
       "Cell([[4.12, 0.0, 0.0], [-2.059999999999999, 3.568024663591888, 0.0], [0.0, 0.0, 13.4316]])"
      ]
     },
     "execution_count": 84,
     "metadata": {},
     "output_type": "execute_result"
    }
   ],
   "source": [
    "atom.set_cellI"
   ]
  },
  {
   "cell_type": "code",
   "execution_count": null,
   "metadata": {},
   "outputs": [],
   "source": []
  }
 ],
 "metadata": {
  "kernelspec": {
   "display_name": "Python 3",
   "language": "python",
   "name": "python3"
  },
  "language_info": {
   "codemirror_mode": {
    "name": "ipython",
    "version": 3
   },
   "file_extension": ".py",
   "mimetype": "text/x-python",
   "name": "python",
   "nbconvert_exporter": "python",
   "pygments_lexer": "ipython3",
   "version": "3.8.5"
  }
 },
 "nbformat": 4,
 "nbformat_minor": 4
}
